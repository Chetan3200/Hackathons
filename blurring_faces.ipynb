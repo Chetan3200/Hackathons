{
 "cells": [
  {
   "cell_type": "code",
   "execution_count": 1,
   "id": "7deb2c99-773a-4444-8f3a-3f1dfbdbfa49",
   "metadata": {},
   "outputs": [],
   "source": [
    "import mediapipe as mp\n",
    "import cv2\n",
    "import numpy as np\n",
    "# from facial_landmarks import FaceLandmarks"
   ]
  },
  {
   "cell_type": "code",
   "execution_count": 6,
   "id": "efec67ae-b03b-48f5-a651-d3c1e8ea2d75",
   "metadata": {},
   "outputs": [],
   "source": [
    "# class FaceLandmarks:\n",
    "#     def __init__(self):\n",
    "#         mp_face_mesh = mp.solutions.face_mesh\n",
    "#         self.face_mesh = mp_face_mesh.FaceMesh()\n",
    "\n",
    "#     def get_facial_landmarks(self, frame):\n",
    "#         height, width, _ = frame.shape\n",
    "#         frame_rgb = cv2.cvtColor(frame, cv2.COLOR_BGR2RGB)\n",
    "#         result = self.face_mesh.process(frame_rgb)\n",
    "\n",
    "#         facelandmarks = []\n",
    "#         if result.multi_face_landmarks is not None:\n",
    "#             for facial_landmarks in result.multi_face_landmarks:\n",
    "#                 for i in range(0, 468):\n",
    "#                     pt1 = facial_landmarks.landmark[i]\n",
    "#                     x = int(pt1.x * width)\n",
    "#                     y = int(pt1.y * height)\n",
    "#                     facelandmarks.append([x, y])\n",
    "#             return np.array(facelandmarks, np.int32)\n",
    "#         else: return None\n",
    "\n",
    "class FaceLandmarks:\n",
    "    def __init__(self):\n",
    "        mp_face_mesh = mp.solutions.face_mesh\n",
    "        self.face_mesh = mp_face_mesh.FaceMesh()\n",
    "\n",
    "    def get_facial_landmarks(self, frame):\n",
    "        height, width, _ = frame.shape\n",
    "        frame_rgb = cv2.cvtColor(frame, cv2.COLOR_BGR2RGB)\n",
    "        result = self.face_mesh.process(frame_rgb)\n",
    "\n",
    "        facelandmarks = []\n",
    "        face_found = bool(result.multi_face_landmarks)\n",
    "        if face_found:\n",
    "            for facial_landmarks in result.multi_face_landmarks:\n",
    "                for i in range(0, 468):\n",
    "                    pt1 = facial_landmarks.landmark[i]\n",
    "                    x = int(pt1.x * width)\n",
    "                    y = int(pt1.y * height)\n",
    "                    facelandmarks.append([x, y])\n",
    "            return np.array(facelandmarks, np.int32)\n",
    "        else: return None"
   ]
  },
  {
   "cell_type": "code",
   "execution_count": 7,
   "id": "9c8c1062-52f6-46ba-8910-b95d8dd3dacf",
   "metadata": {},
   "outputs": [],
   "source": [
    "fl = FaceLandmarks()\n",
    "cap = cv2.VideoCapture(\"person_walking.mp4\")\n",
    "# cap = cv2.VideoCapture(0)"
   ]
  },
  {
   "cell_type": "code",
   "execution_count": 8,
   "id": "b0b84f78-3c79-48b2-90e8-fdfb8f6fd8c8",
   "metadata": {},
   "outputs": [],
   "source": [
    "# using opencv to read the cv2\n",
    "\n",
    "# while cap.isOpened():\n",
    "#     ret, frame = cap.read()\n",
    "#     frame = cv2.resize(frame, None, fx = 0.2, fy = 0.2)\n",
    "#     cv2.imshow(\"frame\", frame)\n",
    "#     if cv2.waitKey(10) & 0xFF == ord(\"q\"):\n",
    "#         break\n",
    "            \n",
    "# cap.release()\n",
    "# cv2.destroyAllWindows()"
   ]
  },
  {
   "cell_type": "code",
   "execution_count": 9,
   "id": "4e1dd655-607e-4057-9501-1eb0755f3985",
   "metadata": {
    "tags": []
   },
   "outputs": [],
   "source": [
    "while True:\n",
    "    ret, frame = cap.read()\n",
    "    frame = cv2.resize(frame, None, fx=0.5, fy=0.5)\n",
    "    frame_copy = frame.copy()\n",
    "    height, width, _ = frame.shape\n",
    "\n",
    "\n",
    "    # 1. Face landmarks detection\n",
    "    \n",
    "    landmarks = fl.get_facial_landmarks(frame)\n",
    "    \n",
    "    if landmarks is not None:\n",
    "        convexhull = cv2.convexHull(landmarks)\n",
    "\n",
    "        # 2. Face blurrying\n",
    "        mask = np.zeros((height, width), np.uint8)\n",
    "        # cv2.polylines(mask, [convexhull], True, 255, 3)\n",
    "        cv2.fillConvexPoly(mask, convexhull, 255)\n",
    "\n",
    "        # Extract the face\n",
    "        frame_copy = cv2.blur(frame_copy, (34, 34))\n",
    "        face_extracted = cv2.bitwise_and(frame_copy, frame_copy, mask=mask)\n",
    "\n",
    "\n",
    "        # Extract background\n",
    "        background_mask = cv2.bitwise_not(mask)\n",
    "        background = cv2.bitwise_and(frame, frame, mask=background_mask)\n",
    "\n",
    "        # Final result\n",
    "        result = cv2.add(background, face_extracted)\n",
    "\n",
    "        #cv2.imshow(\"burrred\", face_extracted)\n",
    "        cv2.imshow(\"Result\", result)\n",
    "        # cv2.imshow(\"Frame\", frame)\n",
    "\n",
    "        if cv2.waitKey(1) & 0xFF == ord(\"q\"):\n",
    "            break\n",
    "    else:\n",
    "        cv2.imshow(\"Result\", frame)\n",
    "        if cv2.waitKey(10) & 0xFF == ord(\"q\"):\n",
    "            break\n",
    "\n",
    "\n",
    "cap.release()\n",
    "cv2.destroyAllWindows()"
   ]
  },
  {
   "cell_type": "code",
   "execution_count": 9,
   "id": "dc3f8063-a82e-4dc3-8b39-4640f200f049",
   "metadata": {},
   "outputs": [],
   "source": [
    "cap.release()\n",
    "cv2.destroyAllWindows()"
   ]
  },
  {
   "cell_type": "code",
   "execution_count": null,
   "id": "5ed76b12-4c55-4190-a86e-824b36f28867",
   "metadata": {},
   "outputs": [],
   "source": []
  },
  {
   "cell_type": "code",
   "execution_count": null,
   "id": "a1bc44c1-9080-43b1-a915-aa568b6bb199",
   "metadata": {},
   "outputs": [],
   "source": []
  },
  {
   "cell_type": "code",
   "execution_count": null,
   "id": "3f298c29-4ad8-4953-9a97-6cce51f687a3",
   "metadata": {},
   "outputs": [],
   "source": []
  },
  {
   "cell_type": "code",
   "execution_count": null,
   "id": "d1c475e3-ce06-4590-8c91-a4f8ab3994f6",
   "metadata": {},
   "outputs": [],
   "source": []
  },
  {
   "cell_type": "code",
   "execution_count": null,
   "id": "bfe2f688-98f2-4ccb-80a9-35bc8593ae22",
   "metadata": {},
   "outputs": [],
   "source": []
  }
 ],
 "metadata": {
  "kernelspec": {
   "display_name": "Python 3 (ipykernel)",
   "language": "python",
   "name": "python3"
  },
  "language_info": {
   "codemirror_mode": {
    "name": "ipython",
    "version": 3
   },
   "file_extension": ".py",
   "mimetype": "text/x-python",
   "name": "python",
   "nbconvert_exporter": "python",
   "pygments_lexer": "ipython3",
   "version": "3.9.12"
  }
 },
 "nbformat": 4,
 "nbformat_minor": 5
}
